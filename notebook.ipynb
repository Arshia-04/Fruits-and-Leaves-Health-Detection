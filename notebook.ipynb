{
 "cells": [
  {
   "cell_type": "code",
   "execution_count": null,
   "metadata": {
    "_cell_guid": "b1076dfc-b9ad-4769-8c92-a6c4dae69d19",
    "_uuid": "8f2839f25d086af736a60e9eeb907d3b93b6e0e5",
    "execution": {
     "iopub.execute_input": "2025-04-26T04:29:01.085259Z",
     "iopub.status.busy": "2025-04-26T04:29:01.085024Z",
     "iopub.status.idle": "2025-04-26T04:29:01.307255Z",
     "shell.execute_reply": "2025-04-26T04:29:01.306463Z",
     "shell.execute_reply.started": "2025-04-26T04:29:01.085236Z"
    },
    "trusted": true
   },
   "outputs": [],
   "source": [
    "!nvidia-smi"
   ]
  },
  {
   "cell_type": "code",
   "execution_count": null,
   "metadata": {
    "execution": {
     "iopub.execute_input": "2025-04-26T04:29:05.064020Z",
     "iopub.status.busy": "2025-04-26T04:29:05.063303Z",
     "iopub.status.idle": "2025-04-26T04:30:15.714172Z",
     "shell.execute_reply": "2025-04-26T04:30:15.713472Z",
     "shell.execute_reply.started": "2025-04-26T04:29:05.063992Z"
    },
    "trusted": true
   },
   "outputs": [],
   "source": [
    "!git clone https://github.com/ultralytics/yolov5\n",
    "%cd yolov5\n",
    "!pip install -qr requirements.txt  # Install required dependencies"
   ]
  },
  {
   "cell_type": "code",
   "execution_count": null,
   "metadata": {
    "execution": {
     "iopub.execute_input": "2025-04-26T04:30:49.843486Z",
     "iopub.status.busy": "2025-04-26T04:30:49.842852Z",
     "iopub.status.idle": "2025-04-26T04:31:07.010843Z",
     "shell.execute_reply": "2025-04-26T04:31:07.010174Z",
     "shell.execute_reply.started": "2025-04-26T04:30:49.843458Z"
    },
    "trusted": true
   },
   "outputs": [],
   "source": [
    "!pip install roboflow\n",
    "\n",
    "from roboflow import Roboflow\n",
    "rf = Roboflow(api_key=\"your-api-key\")\n",
    "project = rf.workspace(\"your-workspace-name\").project(\"your-project-name\")\n",
    "version = project.version(your-version-number)\n",
    "dataset = version.download(\"yolov5\")\n",
    "                "
   ]
  },
  {
   "cell_type": "code",
   "execution_count": null,
   "metadata": {
    "execution": {
     "iopub.execute_input": "2025-04-26T04:31:13.670414Z",
     "iopub.status.busy": "2025-04-26T04:31:13.669678Z",
     "iopub.status.idle": "2025-04-26T04:31:13.790008Z",
     "shell.execute_reply": "2025-04-26T04:31:13.789332Z",
     "shell.execute_reply.started": "2025-04-26T04:31:13.670387Z"
    },
    "trusted": true
   },
   "outputs": [],
   "source": [
    "!cat {dataset.location}/data.yaml"
   ]
  },
  {
   "cell_type": "code",
   "execution_count": null,
   "metadata": {
    "execution": {
     "iopub.execute_input": "2025-04-26T04:32:34.282413Z",
     "iopub.status.busy": "2025-04-26T04:32:34.281854Z",
     "iopub.status.idle": "2025-04-26T08:31:36.821252Z",
     "shell.execute_reply": "2025-04-26T08:31:36.820283Z",
     "shell.execute_reply.started": "2025-04-26T04:32:34.282387Z"
    },
    "trusted": true
   },
   "outputs": [],
   "source": [
    "!python train.py --data /path/to/your/data.yaml/file --weights yolov5m.pt --batch 32 --epochs 150 --imgsz 640 --workers 4 --name fruit_leaf_health"
   ]
  },
  {
   "cell_type": "code",
   "execution_count": null,
   "metadata": {
    "execution": {
     "iopub.execute_input": "2025-04-26T08:38:06.165612Z",
     "iopub.status.busy": "2025-04-26T08:38:06.165309Z",
     "iopub.status.idle": "2025-04-26T08:38:23.620863Z",
     "shell.execute_reply": "2025-04-26T08:38:23.619928Z",
     "shell.execute_reply.started": "2025-04-26T08:38:06.165587Z"
    },
    "trusted": true
   },
   "outputs": [],
   "source": [
    "!python detect.py --weights /path/to/your/best.pt/file --source /path/to/your/test/images --data /path/to/your/data.yaml/file --imgsz 640 --conf-thres 0.25 --iou-thres 0.45 --save-txt --save-conf --project runs/detect --name test_results"
   ]
  }
 ],
 "metadata": {
  "kaggle": {
   "accelerator": "none",
   "dataSources": [],
   "dockerImageVersionId": 31011,
   "isGpuEnabled": false,
   "isInternetEnabled": true,
   "language": "python",
   "sourceType": "notebook"
  },
  "kernelspec": {
   "display_name": "Python 3",
   "language": "python",
   "name": "python3"
  },
  "language_info": {
   "codemirror_mode": {
    "name": "ipython",
    "version": 3
   },
   "file_extension": ".py",
   "mimetype": "text/x-python",
   "name": "python",
   "nbconvert_exporter": "python",
   "pygments_lexer": "ipython3",
   "version": "3.11.11"
  }
 },
 "nbformat": 4,
 "nbformat_minor": 4
}
